{
 "cells": [
  {
   "cell_type": "markdown",
   "metadata": {},
   "source": [
    "<h1><u><b>Battle of the Neighborhoods</u></h1>"
   ]
  },
  {
   "cell_type": "raw",
   "metadata": {},
   "source": [
    "Report:\n",
    "Cover page\n",
    "Table of content\n",
    "Introduction\n",
    "Executive SUmmary\n",
    "Methodology\n",
    "Results\n",
    "Discussion\n",
    "Conclusion\n",
    "References\n",
    "Acknowledgements\n",
    "[Optional] Appendices"
   ]
  },
  {
   "cell_type": "markdown",
   "metadata": {},
   "source": [
    "<h2>Introduction</h2>"
   ]
  },
  {
   "cell_type": "markdown",
   "metadata": {},
   "source": [
    "<h4><u>What social, fun, and adventuruous venues are in and around 20km radius from Nelspruit, South Africa?</u></h4>"
   ]
  },
  {
   "cell_type": "markdown",
   "metadata": {},
   "source": [
    "<p><b>Target?</b> This project is targeted to residents and visitors of these areas.</p>\n",
    "\n",
    "<p><b>Why?</b> Residents can utilize the information to explore more entertainment options and as such can those who plan to visit do too.  Thus making it valuable to both categories.  There are also value for entrepreneurs, governments, acedemics, etc. but that is beyond the scope of this assignment.</p>\n",
    "\n",
    "<p>Also, I recently relocated here and my friends and locals have not been able to satisfy this question fully, thus the project has value to me, a new resident.</p>"
   ]
  },
  {
   "cell_type": "markdown",
   "metadata": {},
   "source": [
    "<h3>Data</h3> \n",
    "\n",
    "<p>Source: FourSquare Places API</p>\n",
    "\n",
    "<p>First I'll get the categories on the database then list those under fun, adventuruous, and social.  Then specifically look for venues in listed categories.  Below is an example for browseing venues in 20km radius from Nelspruit, South Africa.</p>\n",
    "<p>Data to be used are:</p>\n",
    "    <ul><li>Name of Venue</li>\n",
    "    <li>Category</li>\n",
    "    <li>Location in Lat & Long</li>"
   ]
  },
  {
   "cell_type": "markdown",
   "metadata": {},
   "source": [
    "<i>Example - From Postman</i>\n",
    "![image.png](PostmanDataExample.png)"
   ]
  },
  {
   "cell_type": "code",
   "execution_count": null,
   "metadata": {},
   "outputs": [],
   "source": []
  }
 ],
 "metadata": {
  "kernelspec": {
   "display_name": "Python 3",
   "language": "python",
   "name": "python3"
  },
  "language_info": {
   "codemirror_mode": {
    "name": "ipython",
    "version": 3
   },
   "file_extension": ".py",
   "mimetype": "text/x-python",
   "name": "python",
   "nbconvert_exporter": "python",
   "pygments_lexer": "ipython3",
   "version": "3.8.3"
  }
 },
 "nbformat": 4,
 "nbformat_minor": 4
}
